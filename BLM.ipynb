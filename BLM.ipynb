{
 "cells": [
  {
   "cell_type": "markdown",
   "metadata": {},
   "source": [
    "# **Black Lives Matter** "
   ]
  },
  {
   "cell_type": "markdown",
   "metadata": {},
   "source": [
    "NOTE: This is just a skeletal outline of what content that will be added to strengthen the stance on why people should support BLM. "
   ]
  },
  {
   "cell_type": "markdown",
   "metadata": {},
   "source": [
    "Using data analysis and machine learning techniques to illustrate the racial disparity in the United States and the pertinence of Black Lives Matter Movement."
   ]
  },
  {
   "cell_type": "markdown",
   "metadata": {},
   "source": [
    "<img src=\"images/BLM.jpg\">"
   ]
  },
  {
   "cell_type": "markdown",
   "metadata": {},
   "source": [
    "[Image Link](https://www.theatlantic.com/politics/archive/2015/08/a-tough-weekend-for-the-black-lives-matter-movement/400862/)"
   ]
  },
  {
   "cell_type": "markdown",
   "metadata": {},
   "source": [
    "## **Why should I stop saying \"all lives matter\"?** "
   ]
  },
  {
   "cell_type": "markdown",
   "metadata": {},
   "source": [
    "It's a common conversation nowadays: One person says, \"Black lives matter.\" Then another responds, \"No, all lives matter.\" "
   ]
  },
  {
   "cell_type": "markdown",
   "metadata": {},
   "source": [
    "The premise behind **Black Lives Matter** isn't to suggest that black lives should be valued above all other lives. Instead, it sheds light on how black people's lives are relatively undervalued in the U.S.-and more likely to be ended by **police** - and the country needs to recognize this issue. Such a statement seeks to end this racial inequity. "
   ]
  },
  {
   "cell_type": "markdown",
   "metadata": {},
   "source": [
    "\"To say that **Black lives matter** is not to say that other lives do not; indeed, it is quite the reverse-it **is to recognize that all lives do matter**, and **to acknowledge that African Americans are often targeted unfairly** (witness the number of African Americans accosted daily for no reason other than walking through a White neighborhood- including some, like young Trayvon Martin, who lost their lives) and that **our society is not yet so advanced as to have become truly colorblind.** This means that many people of goodwill face the hard task of recognizing that these societal ills continue to exist, and that White privilege continues to exist, even though we wish it didn't and would not have asked for it\" (Unitarian Universalist Association).\n",
    "\n",
    "[Vox Article Link](https://www.vox.com/2016/7/11/12136140/black-all-lives-matter)"
   ]
  },
  {
   "cell_type": "markdown",
   "metadata": {},
   "source": [
    "<img src=\"images/comic.png\">"
   ]
  },
  {
   "cell_type": "markdown",
   "metadata": {},
   "source": [
    "[Chainsawsuit by Kris Straub](http://chainsawsuit.com/comic/2014/12/08/all-things-considered/)"
   ]
  },
  {
   "cell_type": "markdown",
   "metadata": {},
   "source": [
    "## **But why exactly should I support this movement when I'm not directly affected by it? **"
   ]
  },
  {
   "cell_type": "code",
   "execution_count": null,
   "metadata": {},
   "outputs": [],
   "source": []
  }
 ],
 "metadata": {
  "kernelspec": {
   "display_name": "Python 3",
   "language": "python",
   "name": "python3"
  },
  "language_info": {
   "codemirror_mode": {
    "name": "ipython",
    "version": 3
   },
   "file_extension": ".py",
   "mimetype": "text/x-python",
   "name": "python",
   "nbconvert_exporter": "python",
   "pygments_lexer": "ipython3",
   "version": "3.6.5"
  }
 },
 "nbformat": 4,
 "nbformat_minor": 2
}
